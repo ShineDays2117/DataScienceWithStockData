{
 "cells": [
  {
   "cell_type": "code",
   "execution_count": null,
   "id": "d6892fe8",
   "metadata": {},
   "outputs": [],
   "source": [
    "import os\n",
    "import math\n",
    "import pandas as pd\n",
    "import matplotlib.pyplot as plt\n",
    "import numpy as np\n",
    "\n",
    "from sklearn.preprocessing import StandardScaler\n",
    "from sklearn.cluster import KMeans\n",
    "from kneed import KneeLocator\n",
    "from sklearn.decomposition import PCA\n",
    "from scipy.cluster.hierarchy import linkage, dendrogram"
   ]
  },
  {
   "cell_type": "code",
   "execution_count": null,
   "id": "9a78170b",
   "metadata": {},
   "outputs": [],
   "source": [
    "#Khởi tạo đường dẫn\n",
    "directory ='C:/Users/LINH/Desktop/KLTN/csvs/'\n",
    "\n",
    "#Khởi tạo list rỗng\n",
    "mySeries = []\n",
    "namesofMySeries = []\n",
    "\n",
    "#Load dữ liệu vào dataframe (df)\n",
    "for filename in os.listdir(directory):\n",
    "    df = pd.read_csv(directory+filename)\n",
    "    \n",
    "    #Lọc lấy hai cột dữ liệu là thời gian và giá trị trung bình\n",
    "    df = df.loc[:,[\"<DTYYYYMMDD>\",\"<Average>\"]]\n",
    "    \n",
    "    #Đặt thời gian làm chỉ mục\n",
    "    df.set_index(\"<DTYYYYMMDD>\", inplace=True)\n",
    "    #Sắp xếp thời gian theo chỉ mục (sắp xếp theo ngày/tháng/năm)\n",
    "    df.sort_index(inplace=True)\n",
    "    \n",
    "    #Thêm dataframe (df) vào list mySeries\n",
    "    mySeries.append(df)\n",
    "    #Thêm tên file vào list nameofMySeries\n",
    "    namesofMySeries.append(filename[:-4])\n",
    "\n",
    "#print(mySeries)\n",
    "\n",
    "#Trả về 5 dòng đầu của dataframe\n",
    "df.head()"
   ]
  },
  {
   "cell_type": "code",
   "execution_count": null,
   "id": "7ec55d1f",
   "metadata": {
    "scrolled": true
   },
   "outputs": [],
   "source": [
    "#print(type(mySeries[0]))\n",
    "\n",
    "print(len(mySeries))\n",
    "print(len(namesofMySeries))"
   ]
  },
  {
   "cell_type": "code",
   "execution_count": null,
   "id": "6b25a033",
   "metadata": {
    "scrolled": true
   },
   "outputs": [],
   "source": [
    "#Khởi tạo dictionary\n",
    "dic = {}\n",
    "\n",
    "#Chạy vòng lặp cho từng biến (đặt tên là series) thuộc list\n",
    "for series in mySeries:\n",
    "    #Đặt key bằng độ dài từng series\n",
    "    key = len(series)\n",
    "    \n",
    "    #Nếu giá trị key chưa có trong dic\n",
    "    if key not in dic:\n",
    "        #Giá trị dic[key] bằng 0\n",
    "        dic[key] = 0\n",
    "    #Ngược lại, tăng thêm 1\n",
    "    dic[key] += 1\n",
    "\n",
    "#In key và giá trị tương ứng trong dic\n",
    "#Sắp xếp theo thứ tự sắp xếp giảm dần của dic[key]\n",
    "for key in sorted(dic, key=dic.get, reverse = True):\n",
    "    print(key, dic[key])"
   ]
  },
  {
   "cell_type": "markdown",
   "id": "25727227",
   "metadata": {},
   "source": [
    "#### Mục tiêu là lấy các file thuộc mySeries có độ dài thỏa mãn độ dài của maxs (2496 và 2494)"
   ]
  },
  {
   "cell_type": "code",
   "execution_count": null,
   "id": "7731e144",
   "metadata": {
    "scrolled": true
   },
   "outputs": [],
   "source": [
    "#Tạo list mới để chứa 2 giá trị key là 2496 và 2494\n",
    "maxs = []\n",
    "\n",
    "#Đặt điều kiện\n",
    "#Với key trong dic (theo số lượng giảm dần), lấy 2 giá trị key đầu tiên\n",
    "for key in sorted(dic, key=dic.get, reverse = True):\n",
    "    maxs.append(key)\n",
    "    if len(maxs) == 2:\n",
    "        break\n",
    "print(maxs)\n",
    "\n",
    "#Tạo hai list mới để chứa dữ liệu và tên\n",
    "newSeries = []\n",
    "newNameofMySeries = []\n",
    "\n",
    "#Với i chạy trong khoảng từ 0 đến độ dài mySeries(1784)\n",
    "for i in range(0, len(mySeries)):\n",
    "    #Nếu độ dài của dataframe thứ i thuộc mySeries có trong maxs\n",
    "    if len(mySeries[i]) in maxs:\n",
    "        \n",
    "        #Thêm dataframe thứ i, tên thứ i vào newSeries, newNameofMySeries\n",
    "        newSeries.append(mySeries[i])\n",
    "        newNameofMySeries.append(namesofMySeries[i])\n",
    "        \n",
    "print(newSeries)\n",
    "#print(newNameofMySeries)"
   ]
  },
  {
   "cell_type": "markdown",
   "id": "b3dd1765",
   "metadata": {},
   "source": [
    "#### Block code phía dưới có nhiệm vụ tìm kiếm file chứa giá trị ngày không đồng nhất với các file còn lại. Sau đó loại bỏ file khác biệt quá nhiều, nếu không có thì tiến hành bổ sung giá trị data bị thiếu, không đồng nhất"
   ]
  },
  {
   "cell_type": "code",
   "execution_count": null,
   "id": "40a9e4d3",
   "metadata": {
    "scrolled": true
   },
   "outputs": [],
   "source": [
    "#Khởi tạo dictionary mới\n",
    "dic2 = {}\n",
    "\n",
    "#Chạy vòng lặp cho từng biến (đặt tên là series) thuộc list\n",
    "for series in newSeries:\n",
    "    #Với date thuộc giá trị chỉ mục của dataframe (series)\n",
    "    for date in series.index.values:\n",
    "        #Nếu date không thuộc dic 2\n",
    "        if date not in dic2:\n",
    "            #Giá trị date thuộc dic 2 = 0\n",
    "            dic2[date] = 0\n",
    "        #Ngược lại, giá trị date thuộc dic 2 tăng thêm 1\n",
    "        dic2[date] += 1\n",
    "\n",
    "#print(len(dic2))       \n",
    "\n",
    "#Với date thuộc dic 2, sắp xếp theo tăng dần của dic2[key]        \n",
    "for date in sorted(dic2, key=dic2.get):\n",
    "    print(date, dic2[date])  "
   ]
  },
  {
   "cell_type": "markdown",
   "id": "df7541f4",
   "metadata": {},
   "source": [
    "#### Có tổng cộng 576 file, gồm 2 nhóm: 349 file chứa tất cả các gtrị ngày, 277 file chứa ít hơn nhóm 349 file 2 ngày dữ liệu. \n",
    "#### Dựa vào kết quả ta thấy có 3 nhóm gtrị ngày: nhóm xuất hiện ở tất cả 576 file, nhóm 4 ngày xuất hiện ở 575 file và cuối cùng là nhóm 2 ngày chỉ xuất hiện ở 351 file.\n",
    "#### Có thể phỏng đoán 2 file xuất hiện ở 2 ngày 23/01/2018 và 24/01/2018 (tăng 4 gtrị dữ liệu vì (351 - 349)*2) là 2 file gây nên việc mất gtrị dữ liệu ở 4 ngày 2015/06/08, 2015/06/09, 2018/09/05, 2018/09/06 (mất 4 gtrị dữ liệu vì (576-575) *4); do chỉ có 2 nhóm file, mỗi nhóm có một độ dài cố định"
   ]
  },
  {
   "cell_type": "code",
   "execution_count": null,
   "id": "34482b4e",
   "metadata": {},
   "outputs": [],
   "source": [
    "dates = []\n",
    "for date in dic2:\n",
    "    if (dic2[date] == 575):\n",
    "        dates.append(date)\n",
    "print(dates)\n",
    "\n",
    "#Cách 1: Thêm not vào code cũ...\n",
    "for date in dates:\n",
    "    for i in range(0, len(newSeries)):\n",
    "        if date not in newSeries[i].index.values:\n",
    "            print(newNameofMySeries[i])\n",
    "            continue\n",
    "            \n",
    "#Cách 2: Tìm file không chứa giá trị ngày cụ thể:\n",
    "# for i in range(len(newSeries)):\n",
    "#     series = newSeries[i]\n",
    "#     if '2018/09/06' not in series.index.values:\n",
    "#         print(newNameofMySeries[i])"
   ]
  },
  {
   "cell_type": "markdown",
   "id": "7cc5ec57",
   "metadata": {},
   "source": [
    "### Thêm data vào missing values"
   ]
  },
  {
   "cell_type": "code",
   "execution_count": null,
   "id": "3c6ac70e",
   "metadata": {},
   "outputs": [],
   "source": [
    "#Tạo list mới với tên problems_index\n",
    "problems_index = []\n",
    "\n",
    "#Tìm biến có giá trị dài nhất và lưu vào max_len\n",
    "max_len = maxs[0]\n",
    "longest_series = None\n",
    "\n",
    "#Với từng biến (series) thuộc list newSeries\n",
    "for series in newSeries:\n",
    "    #Nếu độ dài của biến bằng với max_len\n",
    "    #Gắn giá trị biến series vào biến longest_series\n",
    "    if len(series) == max_len:\n",
    "        longest_series = series\n",
    "\n",
    "#Với i chạy trong khoảng từ 0 đến độ dài của newSeries\n",
    "for i in range(len(newSeries)):\n",
    "    #Nếu độ dài của biến thứ i thuộc newSeries khác max_len\n",
    "    if len(newSeries[i]) != max_len:\n",
    "        #Thêm giá trị i vào list problems_index\n",
    "        problems_index.append(i)\n",
    "        #Đặt lại chỉ mục các series thứ i theo chỉ mục của biến longest series\n",
    "        newSeries[i] = newSeries[i].reindex(longest_series.index)\n",
    "\n",
    "#Với từng giá trị biến a thuộc problems_index\n",
    "#Lấy biến thứ a thuộc newSeries\n",
    "#Bổ sung các dữ liệu thiếu bằng phép nội suy\n",
    "for a in problems_index:\n",
    "    newSeries[a].interpolate(limit_direction=\"both\",inplace=True)"
   ]
  },
  {
   "cell_type": "markdown",
   "id": "247dd728",
   "metadata": {},
   "source": [
    "### Block code để kiểm tra sự đồng nhất của tất cả các file"
   ]
  },
  {
   "cell_type": "code",
   "execution_count": null,
   "id": "455ce40c",
   "metadata": {},
   "outputs": [],
   "source": [
    "# #Initialize 2nd dictionary\n",
    "# dic2 = {}\n",
    "\n",
    "# #Với series thuộc newSeries\n",
    "# for series in newSeries:\n",
    "#     #Với date thuộc giá trị index của series\n",
    "#     for date in series.index.values:\n",
    "#         #Nếu date không thuộc dic 2\n",
    "#         if date not in dic2:\n",
    "#             #Giá trị date thuộc dic 2 = 0\n",
    "#             dic2[date] = 0\n",
    "#         #Ngược lại, giá trị date thuộc dic 2 tăng thêm 1\n",
    "#         dic2[date] += 1\n",
    "# #print(len(dic2))        \n",
    "\n",
    "# #Với date thuộc dic 2, sắp xếp theo giảm dần của key        \n",
    "# for date in sorted(dic2, key=dic2.get, reverse = True):\n",
    "#     print(date, dic2[date])"
   ]
  },
  {
   "cell_type": "markdown",
   "id": "8148a4ac",
   "metadata": {},
   "source": [
    "### Chia dữ liệu thành bộ train và bộ test"
   ]
  },
  {
   "cell_type": "code",
   "execution_count": null,
   "id": "ca1d0675",
   "metadata": {
    "scrolled": true
   },
   "outputs": [],
   "source": [
    "#Khởi tạo list với tên trainSet\n",
    "trainSet = []\n",
    "\n",
    "#Cho i chạy trong khoảng từ 0 đến 4\n",
    "for i in range(5):\n",
    "    trainSet.append([])\n",
    "    #Cho j chạy trong khoảng từ 0 đến 575\n",
    "    for j in range(576):\n",
    "        trainSet[i].append([])\n",
    "        \n",
    "        #Với từng giá trị chỉ mục (years) thuộc biến thứ j của newSeries\n",
    "        for years in newSeries[j].index.values:\n",
    "            #Nếu 2011 + i bé hơn hoặc bằng 4 kí tự đầu của chỉ mục\n",
    "            #Nếu 2015 + i lớn hơn hoặc bằng 4 kí tự đầu của chỉ mục\n",
    "            if 2011 + i <= int(years[:4]) <= 2015 + i:\n",
    "                \n",
    "                #Lấy dòng giá trị của biến thứ j trong list newSeries có giá trị chỉ mục thỏa mãn điều kiện \n",
    "                #Thêm biến thứ j của list newSeries sau khi lọc dữ liệu vào biến thứ j thuộc biến thứ i trong trainSet\n",
    "                trainSet[i][j].append((newSeries[j].loc[years]))"
   ]
  },
  {
   "cell_type": "code",
   "execution_count": null,
   "id": "bb6474e4",
   "metadata": {
    "scrolled": true
   },
   "outputs": [],
   "source": [
    "for i in range(5):\n",
    "    print(trainSet[i][0][:5])"
   ]
  },
  {
   "cell_type": "markdown",
   "id": "b06ea671",
   "metadata": {},
   "source": [
    "### Kiểm tra dữ liệu lọc có trùng khớp với dữ liệu cũ không"
   ]
  },
  {
   "cell_type": "code",
   "execution_count": null,
   "id": "027691ee",
   "metadata": {
    "scrolled": true
   },
   "outputs": [],
   "source": [
    "print(newSeries[0])"
   ]
  },
  {
   "cell_type": "code",
   "execution_count": null,
   "id": "7926cbd3",
   "metadata": {},
   "outputs": [],
   "source": [
    "#Khởi tạo list với tên là testSet\n",
    "testSet = []\n",
    "\n",
    "#Với i chạy vòng lặp trong khoảng từ 0 đến 575\n",
    "for i in range(576):\n",
    "    #Thêm một list rỗng vào testSet\n",
    "    testSet.append([])\n",
    "    \n",
    "    #Với biến years thuộc chỉ mục của dataframe thứ i thuộc newSeries\n",
    "    for years in newSeries[i].index.values:\n",
    "        #Lọc dữ liệu của biến thứ i trong list newSeries theo điều kiện\n",
    "        #Thêm dữ liệu của biến thứ i của newSeries sau khi lọc vào list thứ i của testSet\n",
    "        if 2020 == int(years[:4]):\n",
    "            testSet[i].append((newSeries[i].loc[years]))"
   ]
  },
  {
   "cell_type": "code",
   "execution_count": null,
   "id": "2482107d",
   "metadata": {},
   "outputs": [],
   "source": [
    "print(testSet[0][:5])"
   ]
  },
  {
   "cell_type": "markdown",
   "id": "df30e41b",
   "metadata": {},
   "source": [
    "### Chuẩn hóa dữ liệu"
   ]
  },
  {
   "cell_type": "code",
   "execution_count": null,
   "id": "5e35bfae",
   "metadata": {
    "scrolled": false
   },
   "outputs": [],
   "source": [
    "#Với i trong khoảng từ 0 đến 4\n",
    "for i in range(5):\n",
    "    #Với j trong khoảng từ 0 đến độ dài của biến thứ i thuộc trainSet\n",
    "    for j in range(len(trainSet[i])):\n",
    "        trainSet[i][j] = StandardScaler().fit_transform(trainSet[i][j])\n",
    "        trainSet[i][j] = trainSet[i][j].reshape(len(trainSet[i][j]))"
   ]
  },
  {
   "cell_type": "code",
   "execution_count": null,
   "id": "59d61636",
   "metadata": {
    "scrolled": false
   },
   "outputs": [],
   "source": [
    "#Với i trong khoảng từ 0 đến 4\n",
    "for i in range(5):\n",
    "    print(\"max: \"+str(max(trainSet[i][0]))+\"\\tmin: \"+str(min(trainSet[i][0])))"
   ]
  },
  {
   "cell_type": "code",
   "execution_count": null,
   "id": "a0744d04",
   "metadata": {
    "scrolled": true
   },
   "outputs": [],
   "source": [
    "#Với i trong khoảng từ 0 đến độ dài của testSet\n",
    "for i in range(len(testSet)):\n",
    "    testSet[i] = StandardScaler().fit_transform(testSet[i])\n",
    "    testSet[i] = testSet[i].reshape(len(testSet[i]))"
   ]
  },
  {
   "cell_type": "code",
   "execution_count": null,
   "id": "00bca962",
   "metadata": {},
   "outputs": [],
   "source": [
    "print(\"max: \"+str(max(testSet[0]))+\"\\tmin: \"+str(min(testSet[0])))"
   ]
  },
  {
   "cell_type": "markdown",
   "id": "c2c65f48",
   "metadata": {},
   "source": [
    "# Kmeans Clustering"
   ]
  },
  {
   "cell_type": "markdown",
   "id": "5946ba94",
   "metadata": {},
   "source": [
    "### Sử dụng PCA"
   ]
  },
  {
   "cell_type": "markdown",
   "id": "f74bba9a",
   "metadata": {},
   "source": [
    "#### PCA là phương pháp giảm số lượng chiều dữ liệu nhưng không làm mất quá nhiều giá trị của bộ dữ liệu đó"
   ]
  },
  {
   "cell_type": "markdown",
   "id": "033c2c33",
   "metadata": {},
   "source": [
    "#### Để hiểu hơn về PCA, tham khảo một số bài viết, bài giảng sau:"
   ]
  },
  {
   "cell_type": "markdown",
   "id": "de8ddcd9",
   "metadata": {},
   "source": [
    "#### https://royalsocietypublishing.org/doi/10.1098/rsta.2015.0202\n",
    "#### https://youtu.be/FgakZw6K1QQ"
   ]
  },
  {
   "cell_type": "code",
   "execution_count": null,
   "id": "d401d8ab",
   "metadata": {
    "scrolled": true
   },
   "outputs": [],
   "source": [
    "#Khởi tạo biến pca\n",
    "pca = PCA(n_components=2)\n",
    "\n",
    "#Khởi tạo list với tên trainSet_transformed\n",
    "trainSet_transformed = []\n",
    "#Đặt biến count bằng 0\n",
    "count = 0\n",
    "\n",
    "#Với từng list thành phần trainset thuộc list trainSet\n",
    "for trainset in trainSet:\n",
    "    trainSet_transformed.append(pca.fit_transform(trainset))\n",
    "    \n",
    "    #In tỉ lệ phương sai còn giữ lại\n",
    "    print(pca.explained_variance_ratio_.cumsum())\n",
    "    #In bộ dữ liệu mới\n",
    "    print(trainSet_transformed[count])\n",
    "    count +=1"
   ]
  },
  {
   "cell_type": "code",
   "execution_count": null,
   "id": "39053145",
   "metadata": {
    "scrolled": true
   },
   "outputs": [],
   "source": [
    "#Trực quan dữ liệu\n",
    "for i in range(5):\n",
    "    plt.figure(figsize=(25,10))\n",
    "    plt.title(\"Train \"+str(i), fontsize= 20)\n",
    "    plt.scatter(trainSet_transformed[i][:,0], trainSet_transformed[i][:,1], s=300)\n",
    "    plt.show()"
   ]
  },
  {
   "cell_type": "markdown",
   "id": "3b69486d",
   "metadata": {},
   "source": [
    "### Tính khoảng cách giữa các cluster với k lần lượt từ (1:24)"
   ]
  },
  {
   "cell_type": "code",
   "execution_count": null,
   "id": "b85549f6",
   "metadata": {
    "scrolled": true
   },
   "outputs": [],
   "source": [
    "#Tạo list mới\n",
    "scores = []\n",
    "\n",
    "#Với i trong khoảng từ 0 đến 4\n",
    "for i in range(5):\n",
    "    #Thêm một list rỗng vào list scores\n",
    "    scores.append([])\n",
    "    #Gắn giá trị của list thứ i trong list trainSet_transformed vào biến trainset\n",
    "    trainset = trainSet_transformed[i]\n",
    "    \n",
    "    #Với k trong khoảng từ 1 đến 24\n",
    "    for k in range(1, 25):\n",
    "        #Chạy phân cụm với số cụm bằng k\n",
    "        model = KMeans(n_clusters=k, max_iter=5000)\n",
    "        model.fit(trainset)\n",
    "        \n",
    "        #Tính quán tính cụm và thêm giá trị vào list scores\n",
    "        scores[i].append(model.inertia_)\n",
    "        #Xuất giá trị quán tính với k cụm\n",
    "        print(\"K\", k,\":\", model.inertia_)"
   ]
  },
  {
   "cell_type": "markdown",
   "id": "b349a977",
   "metadata": {},
   "source": [
    "### Sử dụng KneeLocator, xác định số lượng k"
   ]
  },
  {
   "cell_type": "code",
   "execution_count": null,
   "id": "17026bb0",
   "metadata": {
    "scrolled": true
   },
   "outputs": [],
   "source": [
    "#Tạo list tên kvalue\n",
    "kvalue = []\n",
    "\n",
    "#Với i trong khoảng từ 0 đến 4\n",
    "for i in range(5):\n",
    "    #Tạo biến knee_locator\n",
    "    knee_locator = KneeLocator(range(1, len(scores[i])+1), scores[i], curve='convex', direction='decreasing', online=True)\n",
    "    #Thêm vị trí elbow vào kvalue\n",
    "    kvalue.append(knee_locator.knee)\n",
    "        #Vẽ sơ đồ quán tính\n",
    "    knee_locator.plot_knee(figsize=(25,10))\n",
    "    plt.xlabel(\"Train \"+str(i), fontsize = 16)"
   ]
  },
  {
   "cell_type": "code",
   "execution_count": null,
   "id": "deb0b5e7",
   "metadata": {},
   "outputs": [],
   "source": [
    "for i in range(5):\n",
    "    print(\"K for Train \" + str(i) +':', kvalue[i])"
   ]
  },
  {
   "cell_type": "markdown",
   "id": "a0798248",
   "metadata": {},
   "source": [
    "### Chạy thuật toán Kmeans với trainSet"
   ]
  },
  {
   "cell_type": "code",
   "execution_count": null,
   "id": "c3b5de32",
   "metadata": {},
   "outputs": [],
   "source": [
    "#Tạo list tên Klabels\n",
    "Klabels = []\n",
    "\n",
    "#Với i trong khoảng từ 0 đến 4\n",
    "for i in range(5):\n",
    "    #Gọi k bằng giá trị của biến thứ i trong list kvalue\n",
    "    #Gọi trainset bằng giá trị của biến thứ i trong list trainSet_transformed[i]\n",
    "    k = kvalue[i]\n",
    "    trainset = trainSet_transformed[i]\n",
    "    \n",
    "    #Thực hiện thuật toán gom cụm\n",
    "    kmeans = KMeans(n_clusters=k, max_iter=5000, random_state=42)\n",
    "    #Thêm kết quả chia cụm vào list Klabels\n",
    "    Klabels.append(kmeans.fit_predict(trainset))"
   ]
  },
  {
   "cell_type": "markdown",
   "id": "6a44068c",
   "metadata": {},
   "source": [
    "### Visualize the result"
   ]
  },
  {
   "cell_type": "code",
   "execution_count": null,
   "id": "3c34d7a0",
   "metadata": {
    "scrolled": true
   },
   "outputs": [],
   "source": [
    "#Với i trong khoảng từ 0 tới 4\n",
    "for i in range(5):\n",
    "    plt.figure(figsize=(25,10))\n",
    "    plt.title(\"Train \"+str(i), fontsize= 20)\n",
    "    plt.scatter(trainSet_transformed[i][:, 0], trainSet_transformed[i][:, 1], c=Klabels[i], s=300)\n",
    "    plt.show()"
   ]
  },
  {
   "cell_type": "markdown",
   "id": "1d85fc46",
   "metadata": {},
   "source": [
    "### Plotting"
   ]
  },
  {
   "cell_type": "code",
   "execution_count": null,
   "id": "42911d75",
   "metadata": {
    "scrolled": true
   },
   "outputs": [],
   "source": [
    "count = 0\n",
    "\n",
    "#Với Klabel thuộc Klabels\n",
    "for i in range(5):\n",
    "    Klabel = Klabels[i] \n",
    "    trainset = trainSet[i]   \n",
    "        \n",
    "    fig, axs = plt.subplots(3, 2, figsize=(45,25))\n",
    "    fig.suptitle('Train:' + str(count), fontsize=20, fontweight='bold')\n",
    "    row_i=0\n",
    "    column_j=0\n",
    "    \n",
    "    #Với từng giá trị label trong bộ Klabel\n",
    "    for label in set(Klabel):\n",
    "        cluster = []\n",
    "\n",
    "        #Với j trong khoảng 576 (độ dài Klabel)\n",
    "        for j in range(len(Klabel)):        \n",
    "\n",
    "            #Nếu giá trị thứ j trong Klabel = label\n",
    "            if(Klabel[j]==label):\n",
    "                axs[row_i, column_j].plot(trainset[j],c=\"gray\",alpha=0.4)\n",
    "                cluster.append(trainset[j])\n",
    "\n",
    "        if len(cluster) > 0:\n",
    "            axs[row_i, column_j].plot(np.average(np.vstack(cluster),axis=0),c=\"red\")\n",
    "        axs[row_i, column_j].set_title(\"Cluster \"+str(row_i*2+column_j))\n",
    "        column_j+=1\n",
    "        if column_j%2 == 0:\n",
    "            row_i+=1\n",
    "            column_j=0\n",
    "\n",
    "    plt.show()\n",
    "    count+=1"
   ]
  },
  {
   "cell_type": "markdown",
   "id": "3992d1a0",
   "metadata": {},
   "source": [
    "### Sự phân bổ của file"
   ]
  },
  {
   "cell_type": "code",
   "execution_count": null,
   "id": "1840617e",
   "metadata": {
    "scrolled": true
   },
   "outputs": [],
   "source": [
    "#Tạo biến count bằng 0\n",
    "count = 0\n",
    "\n",
    "#Với từng biến (Klabel) trong list Klabels\n",
    "for Klabel in Klabels:\n",
    "    \n",
    "    #Biến number bằng giá trị lớn nhất trong set Klabel + 1 \n",
    "    number = max(set(Klabel)) + 1\n",
    "    \n",
    "    #Với i trong khoảng từ 0 đến độ dài của biến number\n",
    "    #cluster_amount bằng độ dài của biến có giá trị bằng i trong set Klabel\n",
    "    cluster_amount = [len(Klabel[Klabel==i]) for i in range(number)]\n",
    "    \n",
    "    #Đặt tên biểu đồ với cluster_name\n",
    "    cluster_name = [\"cluster_\"+str(i) for i in range(number)]\n",
    "        \n",
    "    plt.figure(figsize=(15,5))\n",
    "    plt.title(\"Cluster Distribution for TrainSet \" + str(count))\n",
    "    plt.bar(cluster_name, cluster_amount)\n",
    "    plt.show()\n",
    "    count += 1"
   ]
  },
  {
   "cell_type": "markdown",
   "id": "ea1261aa",
   "metadata": {},
   "source": [
    "### Sắp xếp tên file theo kết quả chia cụm lần 1"
   ]
  },
  {
   "cell_type": "code",
   "execution_count": null,
   "id": "a3f622a9",
   "metadata": {
    "scrolled": true
   },
   "outputs": [],
   "source": [
    "#Tạo list mới\n",
    "names = []\n",
    "\n",
    "#Với i trong khoảng từ 0 đến 4\n",
    "for i in range(5):\n",
    "    Klabel = Klabels[i] \n",
    "\n",
    "    #Tạo dataframe gồm có tên file, kết quả chia cụm theo từng bộ trainSet\n",
    "    #Đặt kết quả chia cụm làm chỉ mục\n",
    "    res = pd.DataFrame(zip(newNameofMySeries,Klabel), columns=[\"Series\", \"Cluster\"]).set_index(\"Cluster\")\n",
    "    names.append([])\n",
    "\n",
    "    #Với biến j thuộc set Klabel\n",
    "    for j in set(Klabel):\n",
    "        #Biến thứ i trong list names thêm giá trị có res.index bằng biến j từ res\n",
    "        names[i].append((res[res.index == j]))\n",
    "\n",
    "        print(names[i][j])"
   ]
  },
  {
   "cell_type": "markdown",
   "id": "5e7d6aed",
   "metadata": {},
   "source": [
    "# Chạy thuật toán gom cụm lần 2 với từng cụm ở lần đầu"
   ]
  },
  {
   "cell_type": "markdown",
   "id": "a20d197f",
   "metadata": {},
   "source": [
    "### Tạo một dataframe mới với kết quả gom cụm"
   ]
  },
  {
   "cell_type": "code",
   "execution_count": null,
   "id": "449ab421",
   "metadata": {
    "scrolled": true
   },
   "outputs": [],
   "source": [
    "#Tạo list tên là trainCluster\n",
    "trainCluster = []\n",
    "\n",
    "#Với i trong khoảng từ 0 đến 4\n",
    "for i in range(5):\n",
    "    Klabel = Klabels[i] \n",
    "    trainset = trainSet[i]\n",
    "    \n",
    "    #Đưa trainset về dạng dataframe\n",
    "    datafr = pd.DataFrame(trainset)\n",
    "    #Đặt kết quả chia cụm làm chỉ mục\n",
    "    datafr.set_index([Klabel], inplace=True)\n",
    "    \n",
    "    #Thêm list rỗng vào list trainCluster\n",
    "    trainCluster.append([])\n",
    "    #Biến (list) thứ i trong trainCluster thêm vào giá trị có datafr.index bằng j từ biến datafr\n",
    "    for j in set(Klabel):\n",
    "        trainCluster[i].append(np.array(datafr[datafr.index == j]))"
   ]
  },
  {
   "cell_type": "markdown",
   "id": "d021e7ed",
   "metadata": {},
   "source": [
    "### Kiểm tra code"
   ]
  },
  {
   "cell_type": "code",
   "execution_count": null,
   "id": "706bd75f",
   "metadata": {},
   "outputs": [],
   "source": [
    "check = pd.DataFrame(trainSet[1])\n",
    "check.set_index([Klabels[1]], inplace=True)\n",
    "\n",
    "check.head(576)"
   ]
  },
  {
   "cell_type": "markdown",
   "id": "f61d3668",
   "metadata": {},
   "source": [
    "### Chạy PCA"
   ]
  },
  {
   "cell_type": "code",
   "execution_count": null,
   "id": "21ed918c",
   "metadata": {
    "scrolled": true
   },
   "outputs": [],
   "source": [
    "pca = PCA(n_components=2)\n",
    "trainCluster_transformed = []\n",
    "\n",
    "for i in range (5):\n",
    "    trainCluster_transformed.append([])\n",
    "    for j in set(Klabels[i]):\n",
    "        trainCluster[i][j] = np.array(trainCluster[i][j])\n",
    "        trainCluster_transformed[i].append(pca.fit_transform(trainCluster[i][j]))\n",
    "        print(trainCluster_transformed[i][j])"
   ]
  },
  {
   "cell_type": "code",
   "execution_count": null,
   "id": "813c9070",
   "metadata": {
    "scrolled": true
   },
   "outputs": [],
   "source": [
    "newscores = []\n",
    "\n",
    "for i in range(5):\n",
    "    newscores.append([])\n",
    "    for j in set(Klabels[i]):\n",
    "        newscores[i].append([])\n",
    "        traincluster = trainCluster_transformed[i][j]\n",
    "    \n",
    "        for k in range(1, 10):\n",
    "            model = KMeans(n_clusters=k, max_iter=5000)\n",
    "            model.fit(traincluster)\n",
    "            newscores[i][j].append(model.inertia_)\n",
    "            print(\"K\", k,\":\", model.inertia_)"
   ]
  },
  {
   "cell_type": "code",
   "execution_count": null,
   "id": "cc8c7518",
   "metadata": {
    "scrolled": true
   },
   "outputs": [],
   "source": [
    "newvalue = []\n",
    "for i in range(5):\n",
    "    newvalue.append([])\n",
    "    for j in set(Klabels[i]):\n",
    "        knee_locator = KneeLocator(range(1, len(newscores[i][j])+1), newscores[i][j], curve='convex', direction='decreasing', online=True)\n",
    "        #knee_locator.plot_knee(figsize=(25,10))\n",
    "        newvalue[i].append(knee_locator.knee)\n",
    "        print(\"K for Train\" + str(i) + \" Cluster \" + str(j), knee_locator.knee)"
   ]
  },
  {
   "cell_type": "code",
   "execution_count": null,
   "id": "bf535033",
   "metadata": {},
   "outputs": [],
   "source": [
    "print(newvalue)"
   ]
  },
  {
   "cell_type": "markdown",
   "id": "bc96c727",
   "metadata": {},
   "source": []
  },
  {
   "cell_type": "code",
   "execution_count": null,
   "id": "6b787690",
   "metadata": {},
   "outputs": [],
   "source": [
    "newKlabels = []\n",
    "\n",
    "for i in range(5):\n",
    "    newKlabels.append([])\n",
    "    \n",
    "    for j in set(Klabels[i]):\n",
    "        k = newvalue[i][j]\n",
    "        traincluster = trainCluster_transformed[i][j]\n",
    "        \n",
    "        kmeans = KMeans(n_clusters=k, max_iter=5000, random_state=42)\n",
    "        newKlabels[i].append(kmeans.fit_predict(traincluster))"
   ]
  },
  {
   "cell_type": "markdown",
   "id": "66e6e8c0",
   "metadata": {},
   "source": []
  },
  {
   "cell_type": "code",
   "execution_count": null,
   "id": "0f8ea7a0",
   "metadata": {
    "scrolled": true
   },
   "outputs": [],
   "source": [
    "for i in range(5):\n",
    "    for j in set(Klabels[i]):\n",
    "        plt.figure(figsize=(25,10))\n",
    "        plt.title('Train ' + str(i) + ' Cluster ' + str(j), fontsize = 20)\n",
    "        plt.scatter(trainCluster_transformed[i][j][:, 0], trainCluster_transformed[i][j][:, 1], c=newKlabels[i][j], s=300)\n",
    "        plt.show()"
   ]
  },
  {
   "cell_type": "code",
   "execution_count": null,
   "id": "cbcdf49a",
   "metadata": {
    "scrolled": true
   },
   "outputs": [],
   "source": [
    "#Với i trong khoảng từ 0 đến 4\n",
    "for i in range(5):\n",
    "    #Với biến j thuộc set(Klabels[i])\n",
    "    for j in set(Klabels[i]):\n",
    "        #Gán giá trị\n",
    "        Klabel = newKlabels[i][j] \n",
    "        traincluster = trainCluster[i][j]   \n",
    "\n",
    "        fig, axs = plt.subplots((max(set(Klabel))+1), figsize=(35, 30))\n",
    "        fig.suptitle('Train ' + str(i) + ' Cluster ' + str(j), fontsize=20, fontweight='bold')\n",
    "        #row_i=0\n",
    "        column_j=0\n",
    "\n",
    "        #Với từng giá trị label trong bộ Klabel\n",
    "        for label in set(Klabel):\n",
    "            cluster = []\n",
    "\n",
    "            #Với z trong khoảng 0 đến độ dài Klabel (576)\n",
    "            for z in range(len(Klabel)):        \n",
    "\n",
    "                #Nếu giá trị thứ j trong Klabel = label\n",
    "                if(Klabel[z]==label):\n",
    "                    axs[column_j].plot(traincluster[z],c=\"gray\",alpha=0.4)\n",
    "                    cluster.append(traincluster[z])\n",
    "\n",
    "            if len(cluster) > 0:\n",
    "                axs[column_j].plot(np.average(np.vstack(cluster),axis=0),c=\"red\")\n",
    "            axs[column_j].set_title(\"Cluster \"+str(column_j), fontsize = 16)\n",
    "            column_j+=1\n",
    "\n",
    "        plt.show()"
   ]
  },
  {
   "cell_type": "code",
   "execution_count": null,
   "id": "195a7d07",
   "metadata": {
    "scrolled": true
   },
   "outputs": [],
   "source": [
    "for i in range(5):\n",
    "    count = 0\n",
    "    for Klabel in newKlabels[i]:\n",
    "        number = max(set(Klabel))+1\n",
    "        cluster_amount = [len(Klabel[Klabel==j]) for j in range(number)]\n",
    "        cluster_name = [\"cluster_\"+str(j) for j in range(number)]\n",
    "        \n",
    "        plt.figure(figsize=(15,5))\n",
    "        plt.title(\"Cluster Distribution Train \" + str(i) + \" Cluster \" + str(count))\n",
    "        plt.bar(cluster_name, cluster_amount)\n",
    "        plt.show()\n",
    "        count +=1"
   ]
  },
  {
   "cell_type": "markdown",
   "id": "8d78e234",
   "metadata": {},
   "source": [
    "### Sắp xếp tên file theo kết quả chia cụm lần 2"
   ]
  },
  {
   "cell_type": "code",
   "execution_count": null,
   "id": "dce44f7c",
   "metadata": {
    "scrolled": true
   },
   "outputs": [],
   "source": [
    "newnames = []\n",
    "\n",
    "for i in range(5):\n",
    "    newnames.append([])\n",
    "    for j in set(Klabels[i]):\n",
    "        name = names[i][j]\n",
    "        Klabel = newKlabels[i][j]\n",
    "\n",
    "        #Gắn kết quả chia cụm theo từng bộ trainSet\n",
    "        name.set_index([Klabel], inplace=True)\n",
    "        newnames[i].append([])\n",
    "\n",
    "        #Với z trong khoảng (0,3)\n",
    "        for z in set(Klabel):\n",
    "            #List thứ i trong trainCluster append giá trị có res.index == j từ res\n",
    "            newnames[i][j].append(name[name.index == z])\n",
    "            \n",
    "            print(newnames[i][j][z])"
   ]
  },
  {
   "cell_type": "markdown",
   "id": "882fd848",
   "metadata": {},
   "source": [
    "### Phân chia dữ liệu theo kết quả chia cụm lần 2"
   ]
  },
  {
   "cell_type": "code",
   "execution_count": null,
   "id": "2dbd7bb4",
   "metadata": {},
   "outputs": [],
   "source": [
    "SmallCluster = []\n",
    "\n",
    "for i in range(5):\n",
    "    SmallCluster.append([])\n",
    "    \n",
    "    for j in set(Klabels[i]):\n",
    "        Klabel = newKlabels[i][j]\n",
    "        traincluster = trainCluster[i][j]\n",
    "    \n",
    "        #Đưa trainset về dạng dataframe\n",
    "        datafr = pd.DataFrame(traincluster)\n",
    "        #Đặt kết quả chia cụm làm index\n",
    "        datafr.set_index([Klabel], inplace=True)\n",
    "\n",
    "        SmallCluster[i].append([])\n",
    "        #List thứ i trong trainCluster thêm vào giá trị có datafr.index == j từ datafr\n",
    "        for z in set(Klabel):\n",
    "            SmallCluster[i][j].append(np.array(datafr[datafr.index == z]))"
   ]
  },
  {
   "cell_type": "markdown",
   "id": "013ee7d1",
   "metadata": {},
   "source": [
    "### Kiểm tra kết quả của đoạn code phân chia dữ liệu lần 2"
   ]
  },
  {
   "cell_type": "code",
   "execution_count": null,
   "id": "ea5f6a66",
   "metadata": {},
   "outputs": [],
   "source": [
    "check = pd.DataFrame(trainCluster[0][0])\n",
    "check.set_index([newKlabels[0][0]], inplace=True)\n",
    "\n",
    "check.head(576)"
   ]
  },
  {
   "cell_type": "code",
   "execution_count": null,
   "id": "596cf917",
   "metadata": {
    "scrolled": true
   },
   "outputs": [],
   "source": [
    "print((SmallCluster[0][0]))"
   ]
  },
  {
   "cell_type": "markdown",
   "id": "99fcb1da",
   "metadata": {},
   "source": [
    "### PCA với tỉ lệ phương sai bằng 0.99"
   ]
  },
  {
   "cell_type": "code",
   "execution_count": null,
   "id": "f2a05f25",
   "metadata": {
    "scrolled": true
   },
   "outputs": [],
   "source": [
    "#Tạo biến pca với tỉ lệ phương sai bằng 0.99\n",
    "pca = PCA(n_components=0.99)\n",
    "PCACluster = []\n",
    "\n",
    "#Thực hiện việc giảm chiều dữ liệu theo điều kiện của biến pca\n",
    "for i in range(5):\n",
    "    PCACluster.append([])\n",
    "    \n",
    "    for j in set(Klabels[i]):\n",
    "        Klabel = newKlabels[i][j]\n",
    "        PCACluster[i].append([])\n",
    "        \n",
    "        for z in set(Klabel):\n",
    "            PCACluster[i][j].append(pca.fit_transform(SmallCluster[i][j][z]))\n",
    "            \n",
    "            #In ra số lượng dữ liệu mới (dòng dữ liệu) đối với từng cụm nhỏ\n",
    "            print(\"Train \"+str(i)+\" Cluster \"+str(j)+\" Small Cluster \"+str(z)+ \":\", len(PCACluster[i][j][z]))"
   ]
  },
  {
   "cell_type": "markdown",
   "id": "97eb1d93",
   "metadata": {},
   "source": [
    "### Dựa vào biểu đồ chuỗi thời gian của các cụm con, chọn lấy các cụm con có ý nghĩa (có hình dáng giống nhau) để tiếp tục phân cụm"
   ]
  },
  {
   "cell_type": "code",
   "execution_count": null,
   "id": "20106ed2",
   "metadata": {},
   "outputs": [],
   "source": [
    "list = [[[1],[0,2],[2],[1]],[[0],[0,2],[2],[2],[1]],[[2],[1],[0],[0],[3]],[[2],[0],[0],[1]],[[1],[0],[2],[0]]]"
   ]
  },
  {
   "cell_type": "code",
   "execution_count": null,
   "id": "fc1fbad6",
   "metadata": {
    "scrolled": true
   },
   "outputs": [],
   "source": [
    "#Kiểm tra kết quả trả về theo list\n",
    "count = 0\n",
    "for i in range(5):\n",
    "    for j in set(Klabels[i]):\n",
    "        for z in list[i][j]:\n",
    "            print(newnames[i][j][z])\n",
    "            count+=1"
   ]
  },
  {
   "cell_type": "markdown",
   "id": "fa039ff7",
   "metadata": {
    "scrolled": true
   },
   "source": [
    "### Thực hiện phân cụm phân cấp (Hierarchical clustering) và thể hiện kết quả thông qua sơ đồ cây"
   ]
  },
  {
   "cell_type": "code",
   "execution_count": null,
   "id": "8b00e7ae",
   "metadata": {
    "scrolled": true
   },
   "outputs": [],
   "source": [
    "#Với i trong khoảng từ 0 đến 4\n",
    "for i in range(5):\n",
    "    #Với biến j thuộc set(Klabels[i])\n",
    "    for j in set(Klabels[i]):\n",
    "        #Với biến z thuộc biến thứ j thuộc biến thứ i của list\n",
    "        for z in list[i][j]:\n",
    "            \n",
    "            traindata = PCACluster[i][j][z]\n",
    "\n",
    "            plt.figure(figsize=(16, 6))\n",
    "            plt.xlabel(\"Train \"+str(i)+\" Cluster \"+str(j)+\" Small Cluster \"+str(z), fontsize=14)\n",
    "            plt.ylabel(\"Euclidean distance\", fontsize=14)\n",
    "            \n",
    "            merg = linkage(traindata, method = \"ward\", metric = 'euclidean')\n",
    "            dendrogram(merg, leaf_rotation= 0, leaf_font_size = 9, distance_sort=True)\n",
    "            \n",
    "            plt.show()"
   ]
  },
  {
   "cell_type": "markdown",
   "id": "1ff7591e",
   "metadata": {},
   "source": [
    "### Đối với từng kết quả phân cụm, lấy cặp có khoảng cách Euclidean thấp nhất (gần nhau nhất)"
   ]
  },
  {
   "cell_type": "code",
   "execution_count": null,
   "id": "9fe77943",
   "metadata": {},
   "outputs": [],
   "source": [
    "newlist = [[43,48],[40,58],[8,28],[18,20],[3,5],[24,31],[15,16],[15,18],[25,31],[3,4],[1,3],[16,19],[10,18],[0,1],[19,20],[14,18],[44,56],[19,20],[13,17],[29,49],[29,52],[0,10],[8,28],[5,30]]"
   ]
  },
  {
   "cell_type": "markdown",
   "id": "79513923",
   "metadata": {},
   "source": [
    "### Quan sát các cặp chuỗi dữ liệu"
   ]
  },
  {
   "cell_type": "code",
   "execution_count": null,
   "id": "1971ccc8",
   "metadata": {
    "scrolled": true
   },
   "outputs": [],
   "source": [
    "count = 0\n",
    "for i in range(5):\n",
    "    for j in set(Klabels[i]):\n",
    "        for z in list[i][j]:\n",
    "            fig, axs = plt.subplots(2, figsize=(14,4))\n",
    "            fig.suptitle(\"Train \"+str(i)+\" Cluster \"+str(j)+\" Small Cluster \"+str(z), fontsize=14)\n",
    "            fig.tight_layout()\n",
    "            fig.subplots_adjust(hspace=0.5)\n",
    "\n",
    "            for a in range(2):\n",
    "                t = newlist[count][a]\n",
    "                name = pd.Series.to_string((newnames[i][j][z]).iloc[t], index = False)\n",
    "                \n",
    "                axs[a].plot(SmallCluster[i][j][z][t], color = 'red', linewidth=1)\n",
    "                axs[a].set_title(name)\n",
    "\n",
    "            plt.show()\n",
    "            \n",
    "            count +=1"
   ]
  },
  {
   "cell_type": "markdown",
   "id": "b73f8c1f",
   "metadata": {},
   "source": [
    "### Tạo list mới chứa tên và dữ liệu của hai cặp mã chứng khoán đã chọn phía trên (cặp có khoảng cách thấp nhất)"
   ]
  },
  {
   "cell_type": "code",
   "execution_count": null,
   "id": "364dafa9",
   "metadata": {},
   "outputs": [],
   "source": [
    "#Tạo hai list mới\n",
    "pearsoncc = []\n",
    "pairname = []\n",
    "count=0\n",
    "\n",
    "#Chạy vòng lặp\n",
    "for i in range(5):\n",
    "    for j in set(Klabels[i]):\n",
    "        for z in list[i][j]:\n",
    "            pearsoncc.append([])\n",
    "            pairname.append([])\n",
    "            for a in range(2):\n",
    "                dict = {}\n",
    "                t = newlist[count][a]\n",
    "                \n",
    "                #Gán giá trị\n",
    "                name = pd.Series.to_string((newnames[i][j][z]).iloc[t], index = False)\n",
    "                \n",
    "                value = (SmallCluster[i][j][z][t])\n",
    "                dict[name] = value\n",
    "                datafr = pd.DataFrame(dict)\n",
    "                pearsoncc[count].append(datafr)\n",
    "                pairname[count].append(name)\n",
    "            count +=1"
   ]
  },
  {
   "cell_type": "markdown",
   "id": "3058f097",
   "metadata": {
    "scrolled": true
   },
   "source": [
    "### Đánh giá độ tương quan của mã chứng khoán trong các cặp"
   ]
  },
  {
   "cell_type": "code",
   "execution_count": null,
   "id": "ec372e2e",
   "metadata": {
    "scrolled": true
   },
   "outputs": [],
   "source": [
    "#Tạo list có tên matrix\n",
    "matrix = []\n",
    "for i in range(len(pearsoncc)):\n",
    "    matrix.append([])\n",
    "    \n",
    "    #Đánh giá độ tương quan theo phương pháp pearson\n",
    "    pearsonccvalue = pd.concat(pearsoncc[i], axis = 1)\n",
    "    res = pearsonccvalue.corr(method='pearson')\n",
    "    \n",
    "    #Thêm kết quả vào list\n",
    "    matrix[i].append(res)\n",
    "    print(matrix[i])"
   ]
  },
  {
   "cell_type": "markdown",
   "id": "b62c85ed",
   "metadata": {},
   "source": [
    "### Đánh giá độ tương quan giữa mã chứng khoán trong cặp với bộ dữ liệu test"
   ]
  },
  {
   "cell_type": "code",
   "execution_count": null,
   "id": "0ead2007",
   "metadata": {},
   "outputs": [],
   "source": [
    "#Tạo list mới để lưu giá trị chỉ mục\n",
    "indexes = []\n",
    "for i in range(len(pairname)):\n",
    "    indexes.append([])\n",
    "    name = pairname[i]\n",
    "    \n",
    "    for a in range(2):\n",
    "        #Trả về giá trị chỉ mục của biến có tên giống với biến a thuộc list name\n",
    "        #Thêm giá trị chỉ mục vào list indexes\n",
    "        indexes[i].append(newNameofMySeries.index(name[a]))"
   ]
  },
  {
   "cell_type": "code",
   "execution_count": null,
   "id": "821d403e",
   "metadata": {
    "scrolled": true
   },
   "outputs": [],
   "source": [
    "#path = 'C:/Users/LINH/Desktop/DS_Essay/Result/'\n",
    "for i in range(24):\n",
    "    fig, axs = plt.subplots(2, figsize=(14,4))\n",
    "    fig.suptitle(\"TestPair \" + str(i), fontsize=14)\n",
    "    fig.tight_layout()\n",
    "    fig.subplots_adjust(hspace=0.5)\n",
    "\n",
    "    for a in range(2):\n",
    "        t = indexes[i][a]\n",
    "        name = newNameofMySeries[t]\n",
    "\n",
    "        axs[a].plot(testSet[t], color = 'red', linewidth=1)\n",
    "        axs[a].set_title(name)\n",
    "\n",
    "#     fig.savefig(path + \"TestPair\" + str(i))\n",
    "#     plt.close()\n",
    "        \n",
    "    plt.show()"
   ]
  },
  {
   "cell_type": "code",
   "execution_count": null,
   "id": "4dcf5170",
   "metadata": {},
   "outputs": [],
   "source": [
    "newpearsoncc = []\n",
    "\n",
    "for i in range(24):\n",
    "    newpearsoncc.append([])\n",
    "    for a in range(2):\n",
    "        dict = {}\n",
    "        t = indexes[i][a]\n",
    "                \n",
    "        value = testSet[t]\n",
    "        name = newNameofMySeries[t]\n",
    "                \n",
    "        dict[name] = value\n",
    "        datafr = pd.DataFrame(dict)\n",
    "        newpearsoncc[i].append(datafr)"
   ]
  },
  {
   "cell_type": "code",
   "execution_count": null,
   "id": "f92f01ed",
   "metadata": {
    "scrolled": true
   },
   "outputs": [],
   "source": [
    "matrix = []\n",
    "for i in range(len(newpearsoncc)):\n",
    "    matrix.append([])\n",
    "\n",
    "    newvalue = pd.concat(newpearsoncc[i], axis = 1)\n",
    "    res = newvalue.corr(method='pearson')\n",
    "    matrix[i].append(res)\n",
    "    print(matrix[i])"
   ]
  }
 ],
 "metadata": {
  "kernelspec": {
   "display_name": "Python 3",
   "language": "python",
   "name": "python3"
  },
  "language_info": {
   "codemirror_mode": {
    "name": "ipython",
    "version": 3
   },
   "file_extension": ".py",
   "mimetype": "text/x-python",
   "name": "python",
   "nbconvert_exporter": "python",
   "pygments_lexer": "ipython3",
   "version": "3.8.8"
  }
 },
 "nbformat": 4,
 "nbformat_minor": 5
}
